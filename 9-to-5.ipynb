{
    "cells": [
        {
            "cell_type": "markdown",
            "metadata": {
                "azdata_cell_guid": "7ad962b3-fce2-439c-9ac4-460e1a79b0e8"
            },
            "source": [
                "# Graded Assignment 3: 9 to 5\n",
                "\n",
                "Time to show off your SQL skills! For each question, copy the SQL query you used and make note of the answer.\n",
                "\n",
                "## The Dataset\n",
                "\n",
                "For this assignment, you will be using the Bureau of Labor Statistics (BLS) Current Employment Survey (CES) results which can be found on [Kaggle](https://www.kaggle.com/datasets/bls/employment).\n",
                "\n",
                "## Business Issue\n",
                "\n",
                "You are working for the Bureau of Labor Statistics with the United States government and have been approached by your boss with an important meeting request. You have been asked by your supervisor to meet with Dolly Parton whose nonprofit is looking to shed light on the state of employment in the United States. As part of the 9 to 5 project, their research is focused on production and nonsupervisory employees and how those employees fare compared to all employees in the United States. While the data the BLS collects from the CES is publicly available, Dolly Parton and her colleagues need your assistance navigating the thousands of rows in each table in LaborStatisticsDB.\n",
                "\n",
                "## About the Dataset\n",
                "\n",
                "This dataset comes directly from the Bureau of Labor Statistics’ Current Employment Survey (CES). Here are some things you need to know:\n",
                "\n",
                "1. The industry table contains an NAICS code. This is different from the industry code. NAICS stands for North American Industry Classification System.\n",
                "1. Series ID is composed of multiple different codes. CES stands for Current Employment Survey, the name of the survey which collected the data. The industry code as specified by the BLS and the data type code as specified in the datatype table.\n",
                "\n",
                "## Set Up\n",
                "\n",
                "To connect to the database, use the same connection info used during the SQL lessons. \n",
                "\n",
                "For the assignment, we will be using `LaborStatisticsDB`."
            ]
        },
        {
            "cell_type": "markdown",
            "metadata": {
                "azdata_cell_guid": "dcbb5ae7-a9c8-4d48-8986-8a0f778cc6c6"
            },
            "source": [
                "## Database Exploration\n",
                "\n",
                "To start with, let’s get to know the database further.\n",
                "\n",
                "1. Use this space to make note of each table in the database, the columns within each table, each column’s data type, and how the tables are connected. You can write this down or draw a diagram. Whatever method helps you get an understanding of what is going on with `LaborStatisticsDB`.\n",
                "   \n",
                "   To add a photo, diagram or document to your file, drop the file into the folder that holds this notebook.  Use the link button to the right of the  </> symbol in the gray part of this cell, the link is just the name of your file."
            ]
        },
        {
            "cell_type": "code",
            "execution_count": null,
            "metadata": {
                "azdata_cell_guid": "adb853fc-e2ab-416a-89f0-eb1d6f5b4af8",
                "language": "sql"
            },
            "outputs": [],
            "source": [
                "/*\n",
                "I used the Kaggle dataset page. It has a data dictionary and customizable view with robust documentation.\n",
                "I'm also using the database view in my sidebar on VS code to see the custom made tables that aren't on Kaggle.\n",
                "So between these two views, I have all tables and their columns covered :)\n",
                "\n",
                "I did this because being a good Analyst involves making good use of my time, and respecting other people's time. \n",
                "\n",
                "Here's the link https://www.kaggle.com/datasets/bls/employment\n",
                "*/"
            ]
        },
        {
            "cell_type": "markdown",
            "metadata": {
                "azdata_cell_guid": "87e95d63-f756-4afc-98d9-ed1dcfb95466"
            },
            "source": [
                "2. What is the datatype for women employees?"
            ]
        },
        {
            "cell_type": "code",
            "execution_count": null,
            "metadata": {
                "azdata_cell_guid": "e695b98b-25ed-4bec-8407-6f060e711df1",
                "language": "sql"
            },
            "outputs": [],
            "source": [
                "USE LaborStatisticsDB\n",
                "\n",
                "SELECT *\n",
                "FROM datatype\n",
                "WHERE data_type_text LIKE '%women%'\n",
                "\n",
                "-- Datatype code: 10\n",
                "\n",
                "-- Literal SQL Data type: String. "
            ]
        },
        {
            "cell_type": "markdown",
            "metadata": {
                "azdata_cell_guid": "5e72355c-a069-483d-8e57-33c8244e54d3"
            },
            "source": [
                "3. What is the series id for  women employees in the commercial banking industry in the financial activities supersector?"
            ]
        },
        {
            "cell_type": "code",
            "execution_count": null,
            "metadata": {
                "azdata_cell_guid": "3ecf48c5-07bb-4063-aef5-96b4212f5150",
                "language": "sql"
            },
            "outputs": [],
            "source": [
                "USE LaborStatisticsDB\n",
                "\n",
                "SELECT series_id, supersector_code, industry_code, series_title\n",
                "FROM series\n",
                "WHERE supersector_code = 55 AND industry_code = 55522110 AND data_type_code = 10\n",
                "\n",
                "-- Here's the table this query returns, for ease of grading:\n",
                "\n",
                "series_id\t    supersector_code\tindustry_code\tseries_title\n",
                "CES5552211010\t55\t                55522110\t     Women employees\n",
                "CEU5552211010\t55\t                55522110\t     Women employees\n",
                "\n",
                "-- There were two: CES5552211010 and CEU5552211010\n",
                "-- I suspect the correct answer is: CES5552211010"
            ]
        },
        {
            "cell_type": "markdown",
            "metadata": {
                "azdata_cell_guid": "44ff5801-e75c-405f-bba2-e4f864356f0a"
            },
            "source": [
                "## Aggregate Your Friends and Code some SQL\n",
                "\n",
                "Put together the following:\n",
                "\n",
                "1. How many employees were reported in 2016 in all industries? Round to the nearest whole number."
            ]
        },
        {
            "cell_type": "code",
            "execution_count": null,
            "metadata": {
                "azdata_cell_guid": "2f2aa59f-b6c5-470f-9f72-8bc0ec5178ab",
                "language": "sql"
            },
            "outputs": [],
            "source": [
                "USE LaborStatisticsDB\n",
                "\n",
                "SELECT ROUND(SUM([value]), 0) AS number_of_employeds_year_2016\n",
                "FROM annual_2016\n",
                "WHERE series_id like '%01' -- Code 01 denotes All employees\n",
                "\n",
                "-- 2,340,612 employees reported in 2016 in \"all\" industries, which includes total nonfarm and total private as industries "
            ]
        },
        {
            "cell_type": "markdown",
            "metadata": {
                "azdata_cell_guid": "29d32b99-da7f-4c98-b757-ff3704d136e8"
            },
            "source": [
                "2. How many women employees were reported in 2016 in all industries? Round to the nearest whole number. "
            ]
        },
        {
            "cell_type": "code",
            "execution_count": null,
            "metadata": {
                "azdata_cell_guid": "6e478ad7-1a7e-460c-8000-1e6c10373731",
                "language": "sql"
            },
            "outputs": [],
            "source": [
                "USE LaborStatisticsDB\n",
                "\n",
                "SELECT ROUND(SUM([value]), 0) AS number_of_women_employeds_year_2016\n",
                "FROM annual_2016\n",
                "WHERE series_id like '%10' -- Code 10 denotes women employees\n",
                "\n",
                "-- 1,125,490 women employees in 2016"
            ]
        },
        {
            "cell_type": "markdown",
            "metadata": {
                "azdata_cell_guid": "6b173ff0-3ec9-45b1-b9c1-08351f9ae595"
            },
            "source": [
                "3. How many production/nonsupervisory employees were reported in 2016? Round to the nearest whole number. "
            ]
        },
        {
            "cell_type": "code",
            "execution_count": null,
            "metadata": {
                "azdata_cell_guid": "8532a572-5cd6-4d06-b770-c3f1c7c4e8b2",
                "language": "sql"
            },
            "outputs": [],
            "source": [
                "USE LaborStatisticsDB\n",
                "\n",
                "SELECT ROUND(SUM([value]), 0) AS number_of_filtered_employeds_year_2016\n",
                "FROM annual_2016\n",
                "WHERE series_id like '%06' -- Code 06 denotes the thing we're looking for here\n",
                "\n",
                "-- 1,263,650 production and nonsupervisory employees in 2016"
            ]
        },
        {
            "cell_type": "markdown",
            "metadata": {
                "azdata_cell_guid": "f0e5cd3c-1e07-4718-858f-026045a0a438"
            },
            "source": [
                "4. In January 2017, what is the average weekly hours worked by production and nonsupervisory employees across all industries?"
            ]
        },
        {
            "cell_type": "code",
            "execution_count": null,
            "metadata": {
                "azdata_cell_guid": "ed56d1e6-8622-4b43-923f-6892977b3409",
                "language": "sql"
            },
            "outputs": [],
            "source": [
                "USE LaborStatisticsDB\n",
                "\n",
                "SELECT ROUND(AVG([value]), 0) AS number_of_avg_wkly_hrs_production_and_nonsupervisory_employees\n",
                "FROM january_2017\n",
                "WHERE series_id like '%07' -- Code 07 denotes the thing we're looking for here\n",
                "\n",
                "-- 36 average weekly hours worked for the above mentioned cohort"
            ]
        },
        {
            "cell_type": "markdown",
            "metadata": {
                "azdata_cell_guid": "8b6d0663-d4c3-4420-99ed-1c99f1d1942c"
            },
            "source": [
                "5. What is the total weekly payroll for production and nonsupervisory employees across all industries in January 2017? Round to the nearest penny."
            ]
        },
        {
            "cell_type": "code",
            "execution_count": null,
            "metadata": {
                "azdata_cell_guid": "aba326a4-ea96-472e-9b4d-fff929aedc13",
                "language": "sql"
            },
            "outputs": [],
            "source": [
                "USE LaborStatisticsDB\n",
                "\n",
                "SELECT \n",
                "FORMAT(SUM(CAST([value] AS DECIMAL(18,4))), 'N2') AS total_weekly_payroll_for_production_and_nonsupervisory_employees_for_jan_2017\n",
                "FROM january_2017\n",
                "WHERE series_id LIKE '%82'\n",
                "\n",
                "-- $1,838,753,220.00 spent on total weekly payrolls for above-mentioned cohort for period January 2017 "
            ]
        },
        {
            "cell_type": "markdown",
            "metadata": {
                "azdata_cell_guid": "cdc4508a-a76c-4e36-a816-3c26ef47e710"
            },
            "source": [
                "6. In January 2017, for which industry was the average weekly hours worked by production and nonsupervisory employees the highest? Which industry was the lowest?"
            ]
        },
        {
            "cell_type": "code",
            "execution_count": null,
            "metadata": {
                "azdata_cell_guid": "a6758e01-7ca6-43af-b8b8-04b8120c8a49",
                "language": "sql"
            },
            "outputs": [],
            "source": [
                "USE LaborStatisticsDB\n",
                "\n",
                "SELECT ROUND(AVG([value]), 0) AS number_of_avg_wkly_hrs_production_and_nonsupervisory_employees,\n",
                "series_id\n",
                "FROM january_2017\n",
                "WHERE series_id like '%07' -- Code 07 denotes the thing we're looking for here\n",
                "GROUP BY series_id\n",
                "ORDER BY number_of_avg_wkly_hrs_production_and_nonsupervisory_employees --add DESC to see the inverse :)\n",
                "\n",
                "-- CES3133635007: highest average weekly hours = Motor vehicle power train components\n",
                "-- CES7071394007 lowest average weekly hours = Fitness and recreational sports centers"
            ]
        },
        {
            "cell_type": "markdown",
            "metadata": {
                "azdata_cell_guid": "328915a2-60d5-4c87-b6c2-8e55fab39af3"
            },
            "source": [
                "7. In January 2021, for which industry was the total weekly payroll for production and nonsupervisory employees the highest? Which industry was the lowest?"
            ]
        },
        {
            "cell_type": "code",
            "execution_count": null,
            "metadata": {
                "azdata_cell_guid": "f3985220-b4b7-46f3-ba1a-e041a87be58b",
                "language": "sql"
            },
            "outputs": [],
            "source": [
                "SELECT \n",
                "ROUND(SUM([value]), 0) AS total_payrolls, \n",
                "series_id\n",
                "FROM january_2017\n",
                "WHERE series_id LIKE '%82'\n",
                "GROUP BY series_id\n",
                "ORDER BY total_payrolls DESC -- remove to see the inverse :)\n",
                "\n",
                "-- lowest CEU8081231082 = Coin-operated laundries and drycleaners\n",
                "-- highest CES0500000082 = Total private"
            ]
        },
        {
            "cell_type": "markdown",
            "metadata": {
                "azdata_cell_guid": "9c5c9cb4-4376-4645-bf52-c359bad1853e"
            },
            "source": [
                "## Join in on the Fun\n",
                "\n",
                "Time to start joining! You can choose the type of join you use, just make sure to make a  note!\n",
                "\n",
                "1. Join `annual_2016` with `series` on `series_id`. We only want the data in the `annual_2016` table to be included in the result."
            ]
        },
        {
            "cell_type": "code",
            "execution_count": null,
            "metadata": {
                "azdata_cell_guid": "6c1fad5a-9af5-4ebe-b7bf-eb611688cb14",
                "language": "sql"
            },
            "outputs": [
                {
                    "data": {
                        "text/html": [
                            "Commands completed successfully."
                        ]
                    },
                    "metadata": {},
                    "output_type": "display_data"
                },
                {
                    "data": {
                        "text/html": [
                            "Total execution time: 00:00:00.019"
                        ]
                    },
                    "metadata": {},
                    "output_type": "display_data"
                }
            ],
            "source": [
                "SELECT TOP 50 a.*\n",
                "FROM annual_2016 a\n",
                "INNER JOIN series s ON s.series_id = a.series_id\n",
                "ORDER BY a.id\n",
                "\n",
                "-- used inner join and drew all from left table via SELECT statement "
            ]
        },
        {
            "cell_type": "markdown",
            "metadata": {
                "azdata_cell_guid": "f0eefde2-fd6e-4cef-9426-3979c59ac61e"
            },
            "source": [
                "2. Join `series` and `datatype` on `data_type_code`."
            ]
        },
        {
            "cell_type": "code",
            "execution_count": null,
            "metadata": {
                "azdata_cell_guid": "0850cbeb-06f8-4b15-9f87-7a9ca7a87e91",
                "language": "sql"
            },
            "outputs": [],
            "source": [
                "SELECT TOP 50 *\n",
                "FROM datatype d\n",
                "INNER JOIN series s ON s.data_type_code = d.data_type_code"
            ]
        },
        {
            "cell_type": "markdown",
            "metadata": {
                "azdata_cell_guid": "ada4ecfc-8180-4951-b013-1b4ad14bb2a9"
            },
            "source": [
                "3. Join `series` and `industry` on `industry_code`."
            ]
        },
        {
            "cell_type": "code",
            "execution_count": null,
            "metadata": {
                "azdata_cell_guid": "4eaf2035-ec13-4c15-960f-a40fe73dc34d",
                "language": "sql"
            },
            "outputs": [],
            "source": [
                "SELECT TOP 50 *\n",
                "FROM industry i\n",
                "INNER JOIN series s ON s.industry_code = i.industry_code"
            ]
        },
        {
            "cell_type": "markdown",
            "metadata": {
                "azdata_cell_guid": "7111eeba-9ab9-45b9-a4c5-09b809c63907"
            },
            "source": [
                "## Subqueries, Unions, Derived Tables, Oh My!\n",
                "\n",
                "1. Write a query that returns the `series_id`, `industry_code`, `industry_name`, and `value` from the `january_2017` table but only if that value is greater than the average value for `annual_2016` of `data_type_code` 82."
            ]
        },
        {
            "cell_type": "code",
            "execution_count": null,
            "metadata": {
                "azdata_cell_guid": "b747aa95-d3d7-4843-9f1a-13aae6902e3a",
                "language": "sql"
            },
            "outputs": [],
            "source": [
                "SELECT \n",
                "j.series_id, \n",
                "FORMAT([value], 'C', 'en-us') AS agg_wkly_pyrlls_prdctn_nonsprvsry,\n",
                "(SELECT industry_name FROM industry WHERE SUBSTRING(j.series_id, 4, 8) = industry_code) AS industry_name_proxy,\n",
                "SUBSTRING(j.series_id, 4, 8) AS industry_code_proxy\n",
                "\n",
                "FROM january_2017 j\n",
                "\n",
                "WHERE j.series_id LIKE '%82'\n",
                "AND [value] > (SELECT AVG([value]) FROM annual_2016 WHERE series_id LIKE '%82')\n",
                "GROUP BY j.series_id, j.[value]\n",
                "ORDER BY agg_wkly_pyrlls_prdctn_nonsprvsry DESC\n",
                "\n",
                "-- Hello :) This query returns aggregate weekly payrolls for production and non-supervisory employees, grouped by industry,\n",
                "-- and then sorted by the total weekly payrolls in descending order. I formatted the payrolls currency style for readability.\n",
                "\n",
                "-- Here are the top 10 results the query returns, for ease of grading :\n",
                "series_id\tagg_wkly_pyrlls_prdctn_nonsprvsry\t    industry_name_proxy\t                        industry_code_proxy\n",
                "CES4244500082\t$974,710.00\t                        Food and beverage stores\t                42445000\n",
                "CES5552210082\t$971,796.00\t                        Depository credit intermediation            55522100\n",
                "CES7072251382\t$969,748.00\t                        Limited-service restaurants\t                70722513\n",
                "CEU4244500082\t$963,315.00\t                        Food and beverage stores\t                42445000\n",
                "CEU2023600082\t$940,800.00\t                        Construction of buildings\t                20236000\n",
                "CEU7072251382\t$922,041.00\t                        Limited-service restaurants\t                70722513\n",
                "CES2023700082\t$908,374.00\t                        Heavy and civil engineering construction\t20237000\n",
                "CEU5552420082\t$894,878.00\t                        Insurance agencies\t                        55524200\n",
                "CEU4142500082\t$873,578.00\t                        Electronic markets and agents and brokers\t41425000\n",
                "CES5552420082\t$872,398.00\t                        Insurance agencies\t                        55524200\n"
            ]
        },
        {
            "attachments": {},
            "cell_type": "markdown",
            "metadata": {
                "azdata_cell_guid": "21baa05a-e30c-4993-a63e-1e221bb27aa6",
                "language": "sql"
            },
            "source": [
                "**Optional Bonus Question:** Write the above query as a common table expression!"
            ]
        },
        {
            "cell_type": "code",
            "execution_count": null,
            "metadata": {
                "azdata_cell_guid": "a816a7e7-2175-446c-b4e4-4a3d6667d281",
                "language": "sql"
            },
            "outputs": [],
            "source": [
                "WITH above_avg_payrolls AS (\n",
                "    SELECT \n",
                "        j.series_id, \n",
                "        j.[value],\n",
                "        FORMAT(j.[value], 'C', 'en-us') AS agg_wkly_pyrlls_prdctn_nonsprvsry,\n",
                "        SUBSTRING(j.series_id, 4, 8) AS industry_code_proxy\n",
                "    FROM january_2017 j\n",
                "    WHERE j.[value] > (\n",
                "        SELECT AVG([value]) \n",
                "        FROM annual_2016 \n",
                "        WHERE series_id LIKE '%82'\n",
                "    )\n",
                ")\n",
                "\n",
                "SELECT TOP 10 *\n",
                "FROM above_avg_payrolls\n",
                "\n",
                "-- This should return the previous-query's table that I posted in the code cell before this one. Hope this helps!!"
            ]
        },
        {
            "cell_type": "markdown",
            "metadata": {
                "azdata_cell_guid": "661cb463-cf71-40cb-9d03-9bb37492e2d5"
            },
            "source": [
                "2. Create a `Union` table comparing average weekly earnings of production and nonsupervisory employees between `annual_2016` and `january_2017` using the data type 30.  Round to the nearest penny.  You should have a column for the average earnings and a column for the year, and the period."
            ]
        },
        {
            "cell_type": "code",
            "execution_count": null,
            "metadata": {
                "azdata_cell_guid": "327f3949-b20f-4c1e-a126-6005719bf8df",
                "language": "sql"
            },
            "outputs": [],
            "source": [
                "SELECT \n",
                "FORMAT(AVG([value]), 'C', 'en-us') avg_earnings,\n",
                "[year], \n",
                "[period]\n",
                "FROM (\n",
                "SELECT \n",
                "[value],\n",
                "[year],\n",
                "[period]\n",
                "FROM annual_2016\n",
                "WHERE series_id LIKE '%30'\n",
                "UNION ALL\n",
                "SELECT \n",
                "[value],\n",
                "[year],\n",
                "[period]\n",
                "FROM january_2017\n",
                "WHERE series_id LIKE '%30'\n",
                ") AS time_series_comparison\n",
                "GROUP BY [year], [period]\n",
                "\n",
                "-- here's the table this will return to save you some time :)\n",
                "\n",
                "avg_earnings\tyear\tperiod\n",
                "$808.53\t       2017\t        M01\n",
                "$797.20\t       2016\t        M13"
            ]
        },
        {
            "cell_type": "markdown",
            "metadata": {
                "azdata_cell_guid": "cbda1089-6fdf-4b89-9651-54862cf7eb08"
            },
            "source": [
                "## Summarize Your Results\n",
                "\n",
                "With what you know now about the  Bureau of Labor Statistics (BLS) Current Employment Survey (CES) results and working with the Labor Statistics Database, answer the following questions. Note that while this is subjective, you should include relevant data to back up your opinion.\n",
                "\n",
                "1. During which time period did production and nonsupervisory employees fare better?"
            ]
        },
        {
            "cell_type": "markdown",
            "metadata": {
                "azdata_cell_guid": "ed5db53d-2fec-41a3-a9d3-367a676e6c02"
            },
            "source": [
                "-- 2017. But I say that with very low confidence due to methodological issues such as taking the average of averages and not accounting for inflation. See the above table for my figures as well as the query :)"
            ]
        },
        {
            "cell_type": "markdown",
            "metadata": {
                "azdata_cell_guid": "e0028946-9a7f-48ba-a14d-6685d55e9423"
            },
            "source": [
                "2. In which industries did production and nonsupervisory employees fare better?"
            ]
        },
        {
            "cell_type": "markdown",
            "metadata": {
                "azdata_cell_guid": "d1fc3b34-cee3-4565-8233-fbb225573974"
            },
            "source": [
                "Here's the top 9 industries by Inflation-adjusted Average Weekly Earnings (AWE) for production and nonsupervisory employees in descending order from the years 2016 and 2017: \n",
                "\n",
                "Reinsurance carriers\n",
                "Petroleum and coal products\n",
                "Pipeline transportation\n",
                "Fossil fuel electric power generation\n",
                "Software publishers\n",
                "Electric power generation\n",
                "Aircraft\n",
                "Custom computer programming services\n",
                "Portfolio management\n",
                "\n",
                "Here's my query: \n",
                "\n",
                "SELECT TOP 10\n",
                "j.series_id, \n",
                "(j.[value] + a.[value])/2 inflation_adjusted_avg_wkly_earnings_prdctn_nonsprvsry,\n",
                "(SELECT industry_name FROM industry WHERE SUBSTRING(j.series_id, 4, 8) = industry_code) AS industry_name_proxy\n",
                "\n",
                "FROM january_2017 j\n",
                "INNER JOIN annual_2016 a ON j.series_id = a.series_id\n",
                "\n",
                "WHERE j.series_id LIKE '%31'\n",
                "\n",
                "GROUP BY j.series_id, j.[value], a.[value]\n",
                "ORDER BY inflation_adjusted_avg_wkly_earnings_prdctn_nonsprvsry DESC\n",
                "\n",
                "Please note: I combined the two tables and then took an average. I understand that is not statistically sound but I did the best I could with the data I had access to :) All currency numbers are in 1982-1984 dollars and are inflation-adjusted. The industries line up with macro trends from 2016 and 2017 and further align with common sense about industries and their pay. "
            ]
        },
        {
            "cell_type": "markdown",
            "metadata": {
                "azdata_cell_guid": "0db4c4b1-151b-43f8-9a7a-14d45e15a678"
            },
            "source": [
                "3. Now that you have explored the datasets, is there any data or information that you wish you had in this analysis?"
            ]
        },
        {
            "cell_type": "markdown",
            "metadata": {
                "azdata_cell_guid": "072f17a7-ad63-493a-934f-33660ae1d576"
            },
            "source": [
                "I found this dataset fairly robust for our purposes. Obviously the original dataset is around 1.2 GB and is likely too large for the scope of this course. There is a more accurate way to take the average of averages (and it is published on the BLS website) so that would have been nice from a data science, statistically-rigorous perspective. It could have been cool to explore the mathematics of why taking the average of averages can be misleading and which BLS figures to use to achieve that aim. Naturally, I love adjusting for inflation and producing rigorous results, so having the whole dataset, or more years of data, would have been cool. But I understand how expensive that is :) I also wish the information in the questions from the aggregation section were more clear. A lot of our aggregations included double or triple counting things, as a bunch of the 'industries' are aggregates. For example, I found that an industry code 7 digits long indicated that the 'industry' was an aggregate (ie total nonfarms) of real industries, whereas an 8 digit industry code indicated a specific industry (ie reinsurance). "
            ]
        }
    ],
    "metadata": {
        "kernelspec": {
            "display_name": "SQL",
            "language": "sql",
            "name": "SQL"
        },
        "language_info": {
            "name": "sql",
            "version": ""
        }
    },
    "nbformat": 4,
    "nbformat_minor": 2
}
